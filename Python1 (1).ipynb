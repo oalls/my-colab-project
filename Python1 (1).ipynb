{
  "nbformat": 4,
  "nbformat_minor": 0,
  "metadata": {
    "colab": {
      "provenance": [],
      "toc_visible": true
    },
    "kernelspec": {
      "name": "python3",
      "display_name": "Python 3"
    },
    "language_info": {
      "name": "python"
    }
  },
  "cells": [
    {
      "cell_type": "code",
      "source": [
        "import pandas as pd\n",
        "\n",
        "def data_shape(filename):\n",
        "    data = pd.read_csv(filename)\n",
        "    return data.shape"
      ],
      "metadata": {
        "id": "5l2Bc-MBI1bj"
      },
      "execution_count": 1,
      "outputs": []
    }
  ]
}